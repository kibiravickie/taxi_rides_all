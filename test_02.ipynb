{
 "cells": [
  {
   "cell_type": "code",
   "execution_count": null,
   "id": "a121d424-6390-421e-9768-06cca36e7ca8",
   "metadata": {},
   "outputs": [],
   "source": [
    "import pyspark"
   ]
  },
  {
   "cell_type": "code",
   "execution_count": null,
   "id": "82755356-223f-4bdf-bdb1-f84c33af7646",
   "metadata": {},
   "outputs": [],
   "source": [
    "from pyspark.sql import SparkSession"
   ]
  },
  {
   "cell_type": "code",
   "execution_count": null,
   "id": "cadaa16a-b703-44b4-8e78-18e689af0491",
   "metadata": {},
   "outputs": [],
   "source": [
    "spark = SparkSession.builder \\\n",
    "       .master('local[*]') \\\n",
    "       .appName('test') \\\n",
    "       .getOrCreate()"
   ]
  },
  {
   "cell_type": "code",
   "execution_count": null,
   "id": "893920de-59b3-46ad-8200-71fbb64b868b",
   "metadata": {},
   "outputs": [],
   "source": [
    "#!wget https://github.com/DataTalksClub/nyc-tlc-data/releases/download/fhvhv/fhvhv_tripdata_2021-01.csv.gz"
   ]
  },
  {
   "cell_type": "code",
   "execution_count": null,
   "id": "f6ced973-8c39-4616-919a-9c65d4d04561",
   "metadata": {},
   "outputs": [],
   "source": [
    "#!wc -l  fhvhv_tripdata_2021-01.csv.gz"
   ]
  },
  {
   "cell_type": "code",
   "execution_count": null,
   "id": "22fa95f3-364c-43a1-9d92-9a720284439c",
   "metadata": {},
   "outputs": [],
   "source": [
    "#!gunzip fhvhv_tripdata_2021-01.csv.gz"
   ]
  },
  {
   "cell_type": "code",
   "execution_count": null,
   "id": "e0d7f6b6-2183-4e10-987a-54cf4aff82e4",
   "metadata": {},
   "outputs": [],
   "source": [
    "#!ls -lh"
   ]
  },
  {
   "cell_type": "code",
   "execution_count": null,
   "id": "22d12bcc-1072-4e6c-8809-0a3255605bee",
   "metadata": {},
   "outputs": [],
   "source": [
    "df = spark.read \\\n",
    "    .option('header', 'true') \\\n",
    "    .csv('fhvhv_tripdata_2021-01.csv')"
   ]
  },
  {
   "cell_type": "code",
   "execution_count": null,
   "id": "7ca084c9-44bf-4021-9428-2a60e0194af4",
   "metadata": {},
   "outputs": [],
   "source": [
    "df.show()"
   ]
  },
  {
   "cell_type": "code",
   "execution_count": null,
   "id": "dab4a21c-5e04-4db8-a5fb-698fbf72ec72",
   "metadata": {},
   "outputs": [],
   "source": [
    "df.head(5)"
   ]
  },
  {
   "cell_type": "code",
   "execution_count": null,
   "id": "1cfb7fc4-1c24-458d-820a-8964f4ebaa99",
   "metadata": {},
   "outputs": [],
   "source": [
    "df.schema"
   ]
  },
  {
   "cell_type": "code",
   "execution_count": null,
   "id": "d504b2ce-474d-4262-8679-ccc9b2c44d46",
   "metadata": {},
   "outputs": [],
   "source": [
    "df.printSchema()"
   ]
  },
  {
   "cell_type": "code",
   "execution_count": null,
   "id": "c17bd0f9-dbdb-4cc6-9c3a-9c3a613687ec",
   "metadata": {},
   "outputs": [],
   "source": [
    "!head -n 101 fhvhv_tripdata_2021-01.csv > head.csv"
   ]
  },
  {
   "cell_type": "code",
   "execution_count": null,
   "id": "dc557e35-f37c-4af9-ade8-dab9abf12f09",
   "metadata": {},
   "outputs": [],
   "source": [
    "!head -n 10 head.csv"
   ]
  },
  {
   "cell_type": "code",
   "execution_count": null,
   "id": "376a55c9-c4b8-45e7-859d-12910ab386d8",
   "metadata": {},
   "outputs": [],
   "source": [
    "!wc -l head.csv"
   ]
  },
  {
   "cell_type": "code",
   "execution_count": null,
   "id": "58ccc5ce-1b3d-4ced-80e9-8eec990b21a7",
   "metadata": {},
   "outputs": [],
   "source": [
    "import pandas as pd"
   ]
  },
  {
   "cell_type": "code",
   "execution_count": null,
   "id": "d6ae4dd9-81d1-4d2d-9267-e9ec556cc1cf",
   "metadata": {},
   "outputs": [],
   "source": [
    "df_pandas = pd.read_csv('head.csv')"
   ]
  },
  {
   "cell_type": "code",
   "execution_count": null,
   "id": "a91d1518-0e93-4924-9ba5-8a1c6c3e2fbc",
   "metadata": {},
   "outputs": [],
   "source": [
    "df_pandas.head()"
   ]
  },
  {
   "cell_type": "code",
   "execution_count": null,
   "id": "18b400fb-afd7-4721-bfb3-6ba98a2bac26",
   "metadata": {},
   "outputs": [],
   "source": [
    "df_pandas.dtypes"
   ]
  },
  {
   "cell_type": "code",
   "execution_count": null,
   "id": "c3d882aa-747e-4c31-b588-431b24f2324c",
   "metadata": {},
   "outputs": [],
   "source": [
    "spark.createDataFrame(df_pandas).schema"
   ]
  },
  {
   "cell_type": "code",
   "execution_count": null,
   "id": "cde2a3a5-dff9-4f9b-9761-4203406d5b09",
   "metadata": {},
   "outputs": [],
   "source": [
    "#Integer -4 bytes\n",
    "#Long -8 bytes\n",
    "#there is need to use integer as it is more memory efficient"
   ]
  },
  {
   "cell_type": "code",
   "execution_count": null,
   "id": "db6fcc7a-7557-4156-accc-bd4461c7626f",
   "metadata": {},
   "outputs": [],
   "source": [
    "from pyspark.sql import types"
   ]
  },
  {
   "cell_type": "code",
   "execution_count": null,
   "id": "87f8125b-3ce4-4215-a4e8-ac41810f76d7",
   "metadata": {},
   "outputs": [],
   "source": [
    "schema = types.StructType([\n",
    "    types.StructField('hvfhs_license_num', types.StringType(), True), \n",
    "    types.StructField('dispatching_base_num', types.StringType(), True),\n",
    "    types.StructField('pickup_datetime', types.TimestampType(), True), \n",
    "    types.StructField('dropoff_datetime', types.TimestampType(), True), \n",
    "    types.StructField('PULocationID', types.IntegerType(), True), \n",
    "    types.StructField('DOLocationID', types.IntegerType(), True),\n",
    "    types.StructField('SR_Flag', types.StringType(), True)\n",
    "    ])\n",
    "    "
   ]
  },
  {
   "cell_type": "code",
   "execution_count": null,
   "id": "7be6d0b1-8194-4e36-978a-c9e764d3dfad",
   "metadata": {},
   "outputs": [],
   "source": [
    "df = spark.read \\\n",
    "    .option('header', 'true') \\\n",
    "    .schema(schema) \\\n",
    "    .csv('fhvhv_tripdata_2021-01.csv')"
   ]
  },
  {
   "cell_type": "markdown",
   "id": "19584d79-be7d-486f-9b9e-46bc9e485c7d",
   "metadata": {},
   "source": []
  },
  {
   "cell_type": "code",
   "execution_count": null,
   "id": "eb57d8d6-cd04-4b2d-9004-1af0604156f1",
   "metadata": {},
   "outputs": [],
   "source": [
    "df.show()"
   ]
  },
  {
   "cell_type": "code",
   "execution_count": null,
   "id": "be250bdf-4db0-4018-bb2c-a44824f2e2db",
   "metadata": {},
   "outputs": [],
   "source": [
    "df.head(10)"
   ]
  },
  {
   "cell_type": "code",
   "execution_count": null,
   "id": "803685d4-941e-4247-b214-4d72861eb5a2",
   "metadata": {},
   "outputs": [],
   "source": [
    "df = df.repartition(24)"
   ]
  },
  {
   "cell_type": "code",
   "execution_count": null,
   "id": "5b874140-6111-4653-8761-43c241547263",
   "metadata": {},
   "outputs": [],
   "source": [
    "df.write.parquet('fhvhv/2021/01/')"
   ]
  },
  {
   "cell_type": "code",
   "execution_count": null,
   "id": "50dbed0d-762a-4175-b3d9-a6f01b43077c",
   "metadata": {},
   "outputs": [],
   "source": [
    "!ls -lh"
   ]
  },
  {
   "cell_type": "code",
   "execution_count": null,
   "id": "f1a9b7d9-89ec-4e26-aab2-a42abab3fa4f",
   "metadata": {},
   "outputs": [],
   "source": [
    "!ls fhvhv"
   ]
  },
  {
   "cell_type": "code",
   "execution_count": null,
   "id": "54007297-557e-493a-9f50-71da4f785161",
   "metadata": {},
   "outputs": [],
   "source": [
    "#df.write.parquet('fhvhv/2021/01',mode='overwrite')"
   ]
  },
  {
   "cell_type": "code",
   "execution_count": null,
   "id": "39a94cb3-f9b1-470c-876e-7d7912055441",
   "metadata": {},
   "outputs": [],
   "source": []
  }
 ],
 "metadata": {
  "kernelspec": {
   "display_name": "Python 3 (ipykernel)",
   "language": "python",
   "name": "python3"
  },
  "language_info": {
   "codemirror_mode": {
    "name": "ipython",
    "version": 3
   },
   "file_extension": ".py",
   "mimetype": "text/x-python",
   "name": "python",
   "nbconvert_exporter": "python",
   "pygments_lexer": "ipython3",
   "version": "3.10.13"
  }
 },
 "nbformat": 4,
 "nbformat_minor": 5
}
