{
 "cells": [
  {
   "cell_type": "code",
   "execution_count": 1,
   "id": "1127d46c-92d6-40a1-b7df-5e2478fd8b1f",
   "metadata": {},
   "outputs": [],
   "source": [
    "import pyspark\n",
    "from pyspark.sql import SparkSession\n",
    "from pyspark.sql import functions as F"
   ]
  },
  {
   "cell_type": "code",
   "execution_count": 2,
   "id": "2b5a82b7-ef30-4193-bfdc-d4a081755f21",
   "metadata": {},
   "outputs": [
    {
     "name": "stderr",
     "output_type": "stream",
     "text": [
      "24/01/21 11:40:04 WARN Utils: Your hostname, codespaces-fce2a9 resolves to a loopback address: 127.0.0.1; using 172.16.5.4 instead (on interface eth0)\n",
      "24/01/21 11:40:04 WARN Utils: Set SPARK_LOCAL_IP if you need to bind to another address\n",
      "Setting default log level to \"WARN\".\n",
      "To adjust logging level use sc.setLogLevel(newLevel). For SparkR, use setLogLevel(newLevel).\n",
      "24/01/21 11:40:04 WARN NativeCodeLoader: Unable to load native-hadoop library for your platform... using builtin-java classes where applicable\n"
     ]
    }
   ],
   "source": [
    "spark = SparkSession.builder \\\n",
    ".master(\"local[*]\") \\\n",
    ".appName('test') \\\n",
    ".getOrCreate()"
   ]
  },
  {
   "cell_type": "code",
   "execution_count": 3,
   "id": "1b28f38b-e56e-40c9-969c-ef2eae852442",
   "metadata": {},
   "outputs": [
    {
     "name": "stderr",
     "output_type": "stream",
     "text": [
      "                                                                                \r"
     ]
    }
   ],
   "source": [
    "df_green = spark.read.parquet('data/raw/green')"
   ]
  },
  {
   "cell_type": "code",
   "execution_count": 4,
   "id": "d98efd28-5b71-4603-86eb-315ab884a5f0",
   "metadata": {},
   "outputs": [],
   "source": [
    "df_green  = df_green \\\n",
    "  .withColumnRenamed('lpep_pickup_datetime', 'pickup_datetime') \\\n",
    "  .withColumnRenamed('lpep_dropoff_datetime', 'dropoff_datetime')"
   ]
  },
  {
   "cell_type": "code",
   "execution_count": 5,
   "id": "d2c2c93b-12b7-4165-ad99-27e047976175",
   "metadata": {},
   "outputs": [
    {
     "name": "stdout",
     "output_type": "stream",
     "text": [
      "root\n",
      " |-- VendorID: integer (nullable = true)\n",
      " |-- pickup_datetime: timestamp (nullable = true)\n",
      " |-- dropoff_datetime: timestamp (nullable = true)\n",
      " |-- store_and_fwd_flag: string (nullable = true)\n",
      " |-- RatecodeID: integer (nullable = true)\n",
      " |-- PULocationID: integer (nullable = true)\n",
      " |-- DOLocationID: integer (nullable = true)\n",
      " |-- passenger_count: integer (nullable = true)\n",
      " |-- trip_distance: double (nullable = true)\n",
      " |-- fare_amount: double (nullable = true)\n",
      " |-- extra: double (nullable = true)\n",
      " |-- mta_tax: double (nullable = true)\n",
      " |-- tip_amount: double (nullable = true)\n",
      " |-- tolls_amount: double (nullable = true)\n",
      " |-- ehail_fee: double (nullable = true)\n",
      " |-- improvement_surcharge: double (nullable = true)\n",
      " |-- total_amount: double (nullable = true)\n",
      " |-- payment_type: integer (nullable = true)\n",
      " |-- trip_type: integer (nullable = true)\n",
      " |-- congestion_surcharge: double (nullable = true)\n",
      "\n"
     ]
    }
   ],
   "source": [
    "df_green.printSchema()"
   ]
  },
  {
   "cell_type": "code",
   "execution_count": 6,
   "id": "9d61054d-825a-4a0f-ac62-e6531ea7c0f8",
   "metadata": {},
   "outputs": [],
   "source": [
    "df_yellow = spark.read.parquet('data/raw/yellow')"
   ]
  },
  {
   "cell_type": "code",
   "execution_count": 7,
   "id": "ab3eeaf7-27da-49aa-8f8b-dd2ddf2f014b",
   "metadata": {},
   "outputs": [],
   "source": [
    "df_yellow  = df_yellow \\\n",
    "  .withColumnRenamed('tpep_pickup_datetime','pickup_datetime') \\\n",
    "  .withColumnRenamed('tpep_dropoff_datetime', 'dropoff_datetime')"
   ]
  },
  {
   "cell_type": "code",
   "execution_count": 8,
   "id": "0e008a99-88fd-4b8a-837c-d096c4d1f990",
   "metadata": {},
   "outputs": [
    {
     "name": "stdout",
     "output_type": "stream",
     "text": [
      "root\n",
      " |-- VendorID: integer (nullable = true)\n",
      " |-- pickup_datetime: timestamp (nullable = true)\n",
      " |-- dropoff_datetime: timestamp (nullable = true)\n",
      " |-- passenger_count: integer (nullable = true)\n",
      " |-- trip_distance: double (nullable = true)\n",
      " |-- RatecodeID: integer (nullable = true)\n",
      " |-- store_and_fwd_flag: string (nullable = true)\n",
      " |-- PULocationID: integer (nullable = true)\n",
      " |-- DOLocationID: integer (nullable = true)\n",
      " |-- payment_type: integer (nullable = true)\n",
      " |-- fare_amount: double (nullable = true)\n",
      " |-- extra: double (nullable = true)\n",
      " |-- mta_tax: double (nullable = true)\n",
      " |-- tip_amount: double (nullable = true)\n",
      " |-- tolls_amount: double (nullable = true)\n",
      " |-- improvement_surcharge: double (nullable = true)\n",
      " |-- total_amount: double (nullable = true)\n",
      " |-- congestion_surcharge: double (nullable = true)\n",
      "\n"
     ]
    }
   ],
   "source": [
    "df_yellow.printSchema()"
   ]
  },
  {
   "cell_type": "code",
   "execution_count": 9,
   "id": "6853e5b1-8dd3-495e-9c38-dad6a1fbf0fd",
   "metadata": {},
   "outputs": [],
   "source": [
    "common_columns = []\n",
    "\n",
    "yellow_columns = set(df_yellow.columns)\n",
    "for col in df_green.columns:\n",
    "    if col in yellow_columns:\n",
    "        common_columns.append(col)"
   ]
  },
  {
   "cell_type": "code",
   "execution_count": 10,
   "id": "bfafd7d5-5b60-4a9f-995c-a4370be8e8d1",
   "metadata": {},
   "outputs": [
    {
     "data": {
      "text/plain": [
       "['VendorID',\n",
       " 'pickup_datetime',\n",
       " 'dropoff_datetime',\n",
       " 'store_and_fwd_flag',\n",
       " 'RatecodeID',\n",
       " 'PULocationID',\n",
       " 'DOLocationID',\n",
       " 'passenger_count',\n",
       " 'trip_distance',\n",
       " 'fare_amount',\n",
       " 'extra',\n",
       " 'mta_tax',\n",
       " 'tip_amount',\n",
       " 'tolls_amount',\n",
       " 'improvement_surcharge',\n",
       " 'total_amount',\n",
       " 'payment_type',\n",
       " 'congestion_surcharge']"
      ]
     },
     "execution_count": 10,
     "metadata": {},
     "output_type": "execute_result"
    }
   ],
   "source": [
    "common_columns"
   ]
  },
  {
   "cell_type": "code",
   "execution_count": 11,
   "id": "ede488f4-900d-4239-a187-e4d3b39405b7",
   "metadata": {},
   "outputs": [
    {
     "data": {
      "text/plain": [
       "{'DOLocationID',\n",
       " 'PULocationID',\n",
       " 'RatecodeID',\n",
       " 'VendorID',\n",
       " 'congestion_surcharge',\n",
       " 'dropoff_datetime',\n",
       " 'extra',\n",
       " 'fare_amount',\n",
       " 'improvement_surcharge',\n",
       " 'mta_tax',\n",
       " 'passenger_count',\n",
       " 'payment_type',\n",
       " 'pickup_datetime',\n",
       " 'store_and_fwd_flag',\n",
       " 'tip_amount',\n",
       " 'tolls_amount',\n",
       " 'total_amount',\n",
       " 'trip_distance'}"
      ]
     },
     "execution_count": 11,
     "metadata": {},
     "output_type": "execute_result"
    }
   ],
   "source": [
    "set(df_green.columns) & set(df_yellow.columns)"
   ]
  },
  {
   "cell_type": "code",
   "execution_count": 12,
   "id": "f3638900-9436-461d-9496-59aa89adce81",
   "metadata": {},
   "outputs": [],
   "source": [
    "df_green_sel = df_green.select(common_columns).withColumn('service_type',F.lit('green'))"
   ]
  },
  {
   "cell_type": "code",
   "execution_count": 13,
   "id": "7b93ce0a-3428-4303-a33f-272005f8a771",
   "metadata": {},
   "outputs": [],
   "source": [
    "df_yellow_sel = df_yellow.select(common_columns).withColumn('service_type',F.lit('yellow'))"
   ]
  },
  {
   "cell_type": "code",
   "execution_count": 14,
   "id": "3e3be4e7-3187-437d-b530-c997aa7ced7b",
   "metadata": {},
   "outputs": [],
   "source": [
    "df_trips_data = df_green_sel.unionAll(df_yellow_sel)"
   ]
  },
  {
   "cell_type": "code",
   "execution_count": 15,
   "id": "e14e45ab-92c9-4ce6-918f-0b2c33783fe4",
   "metadata": {},
   "outputs": [
    {
     "name": "stderr",
     "output_type": "stream",
     "text": [
      "24/01/21 11:40:18 WARN GarbageCollectionMetrics: To enable non-built-in garbage collector(s) List(G1 Concurrent GC), users should configure it(them) to spark.eventLog.gcMetrics.youngGenerationGarbageCollectors or spark.eventLog.gcMetrics.oldGenerationGarbageCollectors\n"
     ]
    },
    {
     "name": "stdout",
     "output_type": "stream",
     "text": [
      "+------------+--------+\n",
      "|service_type|   count|\n",
      "+------------+--------+\n",
      "|       green| 2305712|\n",
      "|      yellow|39688804|\n",
      "+------------+--------+\n",
      "\n"
     ]
    }
   ],
   "source": [
    "df_trips_data.groupBy('service_type').count().show()"
   ]
  },
  {
   "cell_type": "code",
   "execution_count": 16,
   "id": "f5944ee0-5721-40e6-bb33-8c96b67affcf",
   "metadata": {},
   "outputs": [],
   "source": [
    "df_trips_data.createOrReplaceTempView('trips_data')"
   ]
  },
  {
   "cell_type": "code",
   "execution_count": 17,
   "id": "2d7643cf-0f3e-4636-88b6-8c460a020984",
   "metadata": {},
   "outputs": [
    {
     "name": "stdout",
     "output_type": "stream",
     "text": [
      "+--------+-------------------+-------------------+------------------+----------+------------+------------+---------------+-------------+-----------+-----+-------+----------+------------+---------------------+------------+------------+--------------------+------------+\n",
      "|VendorID|    pickup_datetime|   dropoff_datetime|store_and_fwd_flag|RatecodeID|PULocationID|DOLocationID|passenger_count|trip_distance|fare_amount|extra|mta_tax|tip_amount|tolls_amount|improvement_surcharge|total_amount|payment_type|congestion_surcharge|service_type|\n",
      "+--------+-------------------+-------------------+------------------+----------+------------+------------+---------------+-------------+-----------+-----+-------+----------+------------+---------------------+------------+------------+--------------------+------------+\n",
      "|       2|2020-02-10 15:21:48|2020-02-10 15:51:29|                 N|         1|          97|         228|              1|         5.82|       23.0|  0.0|    0.5|      3.57|         0.0|                  0.3|       27.37|           1|                 0.0|       green|\n",
      "|       2|2020-03-16 13:03:09|2020-03-16 13:06:36|                 N|         1|         130|         130|              1|          0.8|        5.0|  0.0|    0.5|      1.16|         0.0|                  0.3|        6.96|           1|                 0.0|       green|\n",
      "|       2|2020-03-08 20:29:12|2020-03-08 20:39:57|                 N|         1|         255|         112|              1|         1.97|        9.5|  0.5|    0.5|      2.16|         0.0|                  0.3|       12.96|           1|                 0.0|       green|\n",
      "|       1|2021-05-21 09:53:26|2021-05-21 10:08:53|                 N|         1|          74|          24|              1|          2.2|       11.5|  0.0|    0.5|       0.0|         0.0|                  0.3|        12.3|           1|                 0.0|       green|\n",
      "|       2|2020-11-28 15:30:46|2020-11-28 15:38:14|                 N|         1|          42|          41|              2|         1.41|        7.5|  0.0|    0.5|       1.0|         0.0|                  0.3|         9.3|           1|                 0.0|       green|\n",
      "|       2|2020-01-01 00:48:28|2020-01-01 01:01:47|                 N|         1|          82|         255|              2|         5.01|       17.0|  0.5|    0.5|       0.0|         0.0|                  0.3|        18.3|           2|                 0.0|       green|\n",
      "|       2|2020-02-18 19:38:30|2020-02-18 19:52:36|                 N|         1|         166|         236|              1|         2.53|       12.0|  1.0|    0.5|      3.31|         0.0|                  0.3|       19.86|           1|                2.75|       green|\n",
      "|       2|2020-02-06 15:58:05|2020-02-06 16:06:47|                 N|         1|          43|         151|              1|         1.41|        7.5|  0.0|    0.5|       0.0|         0.0|                  0.3|         8.3|           2|                 0.0|       green|\n",
      "|       2|2020-02-13 17:46:11|2020-02-13 18:09:42|                 N|         1|          74|         238|              1|         3.21|       16.5|  1.0|    0.5|      4.21|         0.0|                  0.3|       25.26|           1|                2.75|       green|\n",
      "|       1|2020-02-28 05:15:42|2020-02-28 05:37:55|                 N|         1|         129|          75|              2|          8.7|       26.5|  0.5|    0.5|       5.0|        6.12|                  0.3|       38.92|           1|                 0.0|       green|\n",
      "+--------+-------------------+-------------------+------------------+----------+------------+------------+---------------+-------------+-----------+-----+-------+----------+------------+---------------------+------------+------------+--------------------+------------+\n",
      "\n"
     ]
    }
   ],
   "source": [
    "spark.sql (\n",
    "    \"\"\"\n",
    "    SELECT * FROM trips_data LIMIT 10;\n",
    "    \"\"\"\n",
    ").show()"
   ]
  },
  {
   "cell_type": "code",
   "execution_count": 18,
   "id": "3de43a36-2a5b-4e99-ae1c-d7c4e159e163",
   "metadata": {},
   "outputs": [
    {
     "name": "stderr",
     "output_type": "stream",
     "text": [
      "[Stage 6:==========================================>               (8 + 2) / 11]\r"
     ]
    },
    {
     "name": "stdout",
     "output_type": "stream",
     "text": [
      "+------------+--------+\n",
      "|service_type|   count|\n",
      "+------------+--------+\n",
      "|       green| 2305712|\n",
      "|      yellow|39688804|\n",
      "+------------+--------+\n",
      "\n"
     ]
    },
    {
     "name": "stderr",
     "output_type": "stream",
     "text": [
      "                                                                                \r"
     ]
    }
   ],
   "source": [
    "spark.sql(\n",
    "    \"\"\"\n",
    "    SELECT \n",
    "        service_type,\n",
    "        COUNT(1) AS count\n",
    "    FROM \n",
    "        trips_data\n",
    "    GROUP BY\n",
    "        service_type\n",
    "    \"\"\"\n",
    ").show()\n"
   ]
  },
  {
   "cell_type": "code",
   "execution_count": 22,
   "id": "ccd118fd-9a8a-461d-9a73-64e8b554c8b7",
   "metadata": {},
   "outputs": [],
   "source": [
    "df_result = spark.sql(\"\"\"\n",
    "SELECT \n",
    "    -- Reveneue grouping \n",
    "    PULocationID AS revenue_zone,\n",
    "    date_trunc('month', pickup_datetime) AS revenue_month, \n",
    "    service_type, \n",
    "\n",
    "    -- Revenue calculation \n",
    "    SUM(fare_amount) AS revenue_monthly_fare,\n",
    "    SUM(extra) AS revenue_monthly_extra,\n",
    "    SUM(mta_tax) AS revenue_monthly_mta_tax,\n",
    "    SUM(tip_amount) AS revenue_monthly_tip_amount,\n",
    "    SUM(tolls_amount) AS revenue_monthly_tolls_amount,\n",
    "    SUM(improvement_surcharge) AS revenue_monthly_improvement_surcharge,\n",
    "    SUM(total_amount) AS revenue_monthly_total_amount,\n",
    "    SUM(congestion_surcharge) AS revenue_monthly_congestion_surcharge,\n",
    "\n",
    "    -- Additional calculations\n",
    "    AVG(passenger_count) AS avg_montly_passenger_count,\n",
    "    AVG(trip_distance) AS avg_montly_trip_distance\n",
    "FROM\n",
    "    trips_data\n",
    "GROUP BY\n",
    "    1, 2, 3\n",
    "\"\"\")"
   ]
  },
  {
   "cell_type": "code",
   "execution_count": 23,
   "id": "afe70e31-46e6-4c55-adb2-d0e9c8933096",
   "metadata": {},
   "outputs": [
    {
     "name": "stderr",
     "output_type": "stream",
     "text": [
      "[Stage 9:===============================================>          (9 + 2) / 11]\r"
     ]
    },
    {
     "name": "stdout",
     "output_type": "stream",
     "text": [
      "+------------+-------------------+------------+--------------------+---------------------+-----------------------+--------------------------+----------------------------+-------------------------------------+----------------------------+------------------------------------+--------------------------+------------------------+\n",
      "|revenue_zone|      revenue_month|service_type|revenue_monthly_fare|revenue_monthly_extra|revenue_monthly_mta_tax|revenue_monthly_tip_amount|revenue_monthly_tolls_amount|revenue_monthly_improvement_surcharge|revenue_monthly_total_amount|revenue_monthly_congestion_surcharge|avg_montly_passenger_count|avg_montly_trip_distance|\n",
      "+------------+-------------------+------------+--------------------+---------------------+-----------------------+--------------------------+----------------------------+-------------------------------------+----------------------------+------------------------------------+--------------------------+------------------------+\n",
      "|         250|2020-02-01 00:00:00|       green|  15359.960000000006|               1282.5|                  117.5|                     56.01|           590.3200000000003|                     179.999999999999|          17598.440000000013|                                11.0|        1.2394957983193278|       4.962810650887576|\n",
      "|          41|2020-11-01 00:00:00|       green|   52371.87000000006|              1341.25|                 2025.0|         5862.450000000001|           567.5700000000003|                   1374.2999999999743|           65967.38999999869|                              2713.5|        1.2318805682639056|       10.04958927799396|\n",
      "|         259|2021-04-01 00:00:00|       green|   7895.719999999996|                585.2|                    6.0|        148.82999999999998|           465.2400000000001|                    71.10000000000004|           9177.589999999997|                                 0.0|                       1.2|       9.195020920502094|\n",
      "|         108|2020-11-01 00:00:00|       green|   6710.020000000002|                  7.5|                   23.5|        482.33000000000004|          215.71000000000004|                    54.30000000000008|           7496.109999999999|                                2.75|        1.0208333333333333|       238.7364640883977|\n",
      "|         161|2021-04-01 00:00:00|       green|             1096.75|                 88.0|                    0.0|                       0.0|                       63.23|                    9.299999999999997|                     1257.28|                                NULL|                      NULL|      10.048709677419355|\n",
      "|         137|2020-10-01 00:00:00|       green|   3480.829999999999|                  0.0|                    0.0|                     297.0|          250.92000000000007|                   32.400000000000034|          4061.1499999999996|                                NULL|                      NULL|       9.184722222222222|\n",
      "|          15|2020-03-01 00:00:00|       green|  1682.2300000000002|                  5.5|                    6.5|                       0.0|                       79.56|                   19.800000000000004|                     1802.44|                                 0.0|                       1.0|       7.910298507462687|\n",
      "|         229|2020-03-01 00:00:00|       green|              676.36|                  0.0|                    1.0|                       0.0|                       42.84|                    8.099999999999998|                       728.3|                                 0.0|                       1.0|        7.69111111111111|\n",
      "|          44|2020-10-01 00:00:00|       green|               146.5|                  3.5|                    2.0|                       5.5|                         0.0|                                  1.2|                       158.7|                                 0.0|                       1.0|                 12.0475|\n",
      "|         158|2020-02-01 00:00:00|       green|              124.36|                 8.25|                    0.5|                       0.0|                         2.8|                   0.8999999999999999|                      136.81|                                NULL|                      NULL|      11.090000000000002|\n",
      "|         242|2021-02-01 00:00:00|       green|  13165.010000000002|   1445.5500000000002|                   19.5|                      44.0|          403.92000000000013|                    168.5999999999991|          15269.580000000013|                                 8.0|        1.0512820512820513|      4.5755693950177925|\n",
      "|          72|2021-02-01 00:00:00|       green|   9811.499999999985|               1083.5|                    6.0|         71.52999999999999|                      146.88|                   124.49999999999953|          11248.909999999996|                                 0.0|                      1.25|       4.306144578313251|\n",
      "|         106|2020-06-01 00:00:00|       green|  3419.6500000000015|                 6.75|                   10.5|        376.09999999999997|          42.839999999999996|                    44.40000000000006|                     3916.29|                                8.25|                       1.3|       5.232905405405407|\n",
      "|          29|2020-05-01 00:00:00|       green|  14893.320000000003|                 27.0|                   45.5|        232.04000000000002|           539.6100000000001|                   141.89999999999935|          15997.620000000014|                                2.75|        1.1692307692307693|      10.338435517970407|\n",
      "|          37|2020-06-01 00:00:00|       green|   8582.559999999996|                 17.5|                   30.0|         491.5999999999999|          293.25000000000006|                    99.59999999999977|           9583.510000000002|                                16.5|        1.1333333333333333|        6.57698795180723|\n",
      "|         131|2020-12-01 00:00:00|       green|   5490.599999999999|                  0.0|                    1.5|         561.1400000000001|                      128.03|                     58.5000000000001|           6242.519999999996|                                 0.0|                       1.0|       5.940101522842639|\n",
      "|         167|2020-06-01 00:00:00|       green|  7510.8499999999985|                 19.0|                   49.0|        433.06000000000006|           429.0300000000001|                    86.69999999999989|           8559.040000000008|                                 5.5|                     1.152|       6.481262798634815|\n",
      "|         254|2021-01-01 00:00:00|       green|  10794.399999999998|               382.74|                   15.0|                    634.13|          421.20000000000016|                   113.99999999999963|          12364.220000000008|                                 0.0|        1.0303030303030303|       6.801552631578947|\n",
      "|         123|2020-08-01 00:00:00|       green|             5276.65|                  3.5|                   17.5|        454.61000000000007|                      118.18|                    60.00000000000009|           5930.439999999999|                                 0.0|                       1.0|                  5.1909|\n",
      "|          15|2020-12-01 00:00:00|       green|              709.52|                  0.0|                    0.0|                     63.25|                       12.24|                    6.899999999999999|           791.9100000000001|                                NULL|                      NULL|       6.340434782608695|\n",
      "+------------+-------------------+------------+--------------------+---------------------+-----------------------+--------------------------+----------------------------+-------------------------------------+----------------------------+------------------------------------+--------------------------+------------------------+\n",
      "only showing top 20 rows\n",
      "\n"
     ]
    },
    {
     "name": "stderr",
     "output_type": "stream",
     "text": [
      "                                                                                \r"
     ]
    }
   ],
   "source": [
    "df_result.show()"
   ]
  },
  {
   "cell_type": "code",
   "execution_count": 27,
   "id": "ad5e196d-d118-43cc-aff5-bfb7ea8d380d",
   "metadata": {},
   "outputs": [
    {
     "name": "stderr",
     "output_type": "stream",
     "text": [
      "                                                                                \r"
     ]
    }
   ],
   "source": [
    "df_result.coalesce(1).write.parquet('data/raw/report/revenue/', mode='overwrite')"
   ]
  },
  {
   "cell_type": "code",
   "execution_count": null,
   "id": "d7dafad8-4f97-4133-a42a-7108cbef0dc0",
   "metadata": {},
   "outputs": [],
   "source": []
  }
 ],
 "metadata": {
  "kernelspec": {
   "display_name": "Python 3 (ipykernel)",
   "language": "python",
   "name": "python3"
  },
  "language_info": {
   "codemirror_mode": {
    "name": "ipython",
    "version": 3
   },
   "file_extension": ".py",
   "mimetype": "text/x-python",
   "name": "python",
   "nbconvert_exporter": "python",
   "pygments_lexer": "ipython3",
   "version": "3.10.13"
  }
 },
 "nbformat": 4,
 "nbformat_minor": 5
}
