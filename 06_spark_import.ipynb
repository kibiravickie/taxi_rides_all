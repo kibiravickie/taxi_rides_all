{
 "cells": [
  {
   "cell_type": "code",
   "execution_count": null,
   "id": "1127d46c-92d6-40a1-b7df-5e2478fd8b1f",
   "metadata": {},
   "outputs": [],
   "source": [
    "import pyspark\n",
    "from pyspark.sql import SparkSession\n",
    "from pyspark.sql import functions as F"
   ]
  },
  {
   "cell_type": "code",
   "execution_count": null,
   "id": "2b5a82b7-ef30-4193-bfdc-d4a081755f21",
   "metadata": {},
   "outputs": [],
   "source": [
    "spark = SparkSession.builder \\\n",
    ".master(\"local[*]\") \\\n",
    ".appName('test') \\\n",
    ".getOrCreate()"
   ]
  },
  {
   "cell_type": "code",
   "execution_count": null,
   "id": "1b28f38b-e56e-40c9-969c-ef2eae852442",
   "metadata": {},
   "outputs": [],
   "source": [
    "df_green = spark.read.parquet('data/raw/green')"
   ]
  },
  {
   "cell_type": "code",
   "execution_count": null,
   "id": "d98efd28-5b71-4603-86eb-315ab884a5f0",
   "metadata": {},
   "outputs": [],
   "source": [
    "df_green  = df_green \\\n",
    "  .withColumnRenamed('lpep_pickup_datetime', 'pickup_datetime') \\\n",
    "  .withColumnRenamed('lpep_dropoff_datetime', 'dropoff_datetime')"
   ]
  },
  {
   "cell_type": "code",
   "execution_count": null,
   "id": "d2c2c93b-12b7-4165-ad99-27e047976175",
   "metadata": {},
   "outputs": [],
   "source": [
    "df_green.printSchema()"
   ]
  },
  {
   "cell_type": "code",
   "execution_count": null,
   "id": "9d61054d-825a-4a0f-ac62-e6531ea7c0f8",
   "metadata": {},
   "outputs": [],
   "source": [
    "df_yellow = spark.read.parquet('data/raw/yellow')"
   ]
  },
  {
   "cell_type": "code",
   "execution_count": null,
   "id": "ab3eeaf7-27da-49aa-8f8b-dd2ddf2f014b",
   "metadata": {},
   "outputs": [],
   "source": [
    "df_yellow  = df_yellow \\\n",
    "  .withColumnRenamed('tpep_pickup_datetime','pickup_datetime') \\\n",
    "  .withColumnRenamed('tpep_dropoff_datetime', 'dropoff_datetime')"
   ]
  },
  {
   "cell_type": "code",
   "execution_count": null,
   "id": "0e008a99-88fd-4b8a-837c-d096c4d1f990",
   "metadata": {},
   "outputs": [],
   "source": [
    "df_yellow.printSchema()"
   ]
  },
  {
   "cell_type": "code",
   "execution_count": null,
   "id": "6853e5b1-8dd3-495e-9c38-dad6a1fbf0fd",
   "metadata": {},
   "outputs": [],
   "source": [
    "common_columns = []\n",
    "\n",
    "yellow_columns = set(df_yellow.columns)\n",
    "for col in df_green.columns:\n",
    "    if col in yellow_columns:\n",
    "        common_columns.append(col)"
   ]
  },
  {
   "cell_type": "code",
   "execution_count": null,
   "id": "bfafd7d5-5b60-4a9f-995c-a4370be8e8d1",
   "metadata": {},
   "outputs": [],
   "source": [
    "common_columns"
   ]
  },
  {
   "cell_type": "code",
   "execution_count": null,
   "id": "ede488f4-900d-4239-a187-e4d3b39405b7",
   "metadata": {},
   "outputs": [],
   "source": [
    "set(df_green.columns) & set(df_yellow.columns)"
   ]
  },
  {
   "cell_type": "code",
   "execution_count": null,
   "id": "f3638900-9436-461d-9496-59aa89adce81",
   "metadata": {},
   "outputs": [],
   "source": [
    "df_green_sel = df_green.select(common_columns).withColumn('service_type',F.lit('green'))"
   ]
  },
  {
   "cell_type": "code",
   "execution_count": null,
   "id": "7b93ce0a-3428-4303-a33f-272005f8a771",
   "metadata": {},
   "outputs": [],
   "source": [
    "df_yellow_sel = df_yellow.select(common_columns).withColumn('service_type',F.lit('yellow'))"
   ]
  },
  {
   "cell_type": "code",
   "execution_count": null,
   "id": "3e3be4e7-3187-437d-b530-c997aa7ced7b",
   "metadata": {},
   "outputs": [],
   "source": [
    "df_trips_data = df_green_sel.unionAll(df_yellow_sel)"
   ]
  },
  {
   "cell_type": "code",
   "execution_count": null,
   "id": "e14e45ab-92c9-4ce6-918f-0b2c33783fe4",
   "metadata": {},
   "outputs": [],
   "source": [
    "df_trips_data.groupBy('service_type').count().show()"
   ]
  },
  {
   "cell_type": "code",
   "execution_count": null,
   "id": "f5944ee0-5721-40e6-bb33-8c96b67affcf",
   "metadata": {},
   "outputs": [],
   "source": [
    "df_trips_data.createOrReplaceTempView('trips_data')"
   ]
  },
  {
   "cell_type": "code",
   "execution_count": null,
   "id": "2d7643cf-0f3e-4636-88b6-8c460a020984",
   "metadata": {},
   "outputs": [],
   "source": [
    "spark.sql (\n",
    "    \"\"\"\n",
    "    SELECT * FROM trips_data LIMIT 10;\n",
    "    \"\"\"\n",
    ").show()"
   ]
  },
  {
   "cell_type": "code",
   "execution_count": null,
   "id": "3de43a36-2a5b-4e99-ae1c-d7c4e159e163",
   "metadata": {},
   "outputs": [],
   "source": [
    "spark.sql(\n",
    "    \"\"\"\n",
    "    SELECT \n",
    "        service_type,\n",
    "        COUNT(1) AS count\n",
    "    FROM \n",
    "        trips_data\n",
    "    GROUP BY\n",
    "        service_type\n",
    "    \"\"\"\n",
    ").show()\n"
   ]
  },
  {
   "cell_type": "code",
   "execution_count": null,
   "id": "ccd118fd-9a8a-461d-9a73-64e8b554c8b7",
   "metadata": {},
   "outputs": [],
   "source": [
    "df_result = spark.sql(\"\"\"\n",
    "SELECT \n",
    "    -- Reveneue grouping \n",
    "    PULocationID AS revenue_zone,\n",
    "    date_trunc('month', pickup_datetime) AS revenue_month, \n",
    "    service_type, \n",
    "\n",
    "    -- Revenue calculation \n",
    "    SUM(fare_amount) AS revenue_monthly_fare,\n",
    "    SUM(extra) AS revenue_monthly_extra,\n",
    "    SUM(mta_tax) AS revenue_monthly_mta_tax,\n",
    "    SUM(tip_amount) AS revenue_monthly_tip_amount,\n",
    "    SUM(tolls_amount) AS revenue_monthly_tolls_amount,\n",
    "    SUM(improvement_surcharge) AS revenue_monthly_improvement_surcharge,\n",
    "    SUM(total_amount) AS revenue_monthly_total_amount,\n",
    "    SUM(congestion_surcharge) AS revenue_monthly_congestion_surcharge,\n",
    "\n",
    "    -- Additional calculations\n",
    "    AVG(passenger_count) AS avg_montly_passenger_count,\n",
    "    AVG(trip_distance) AS avg_montly_trip_distance\n",
    "FROM\n",
    "    trips_data\n",
    "GROUP BY\n",
    "    1, 2, 3\n",
    "\"\"\")"
   ]
  },
  {
   "cell_type": "code",
   "execution_count": null,
   "id": "afe70e31-46e6-4c55-adb2-d0e9c8933096",
   "metadata": {},
   "outputs": [],
   "source": [
    "df_result.show()"
   ]
  },
  {
   "cell_type": "code",
   "execution_count": null,
   "id": "ad5e196d-d118-43cc-aff5-bfb7ea8d380d",
   "metadata": {},
   "outputs": [],
   "source": [
    "df_result.coalesce(1).write.parquet('data/raw/report/revenue/', mode='overwrite')"
   ]
  },
  {
   "cell_type": "code",
   "execution_count": null,
   "id": "d7dafad8-4f97-4133-a42a-7108cbef0dc0",
   "metadata": {},
   "outputs": [],
   "source": []
  }
 ],
 "metadata": {
  "kernelspec": {
   "display_name": "Python 3 (ipykernel)",
   "language": "python",
   "name": "python3"
  },
  "language_info": {
   "codemirror_mode": {
    "name": "ipython",
    "version": 3
   },
   "file_extension": ".py",
   "mimetype": "text/x-python",
   "name": "python",
   "nbconvert_exporter": "python",
   "pygments_lexer": "ipython3",
   "version": "3.10.13"
  }
 },
 "nbformat": 4,
 "nbformat_minor": 5
}
