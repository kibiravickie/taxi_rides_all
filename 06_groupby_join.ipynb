{
 "cells": [
  {
   "cell_type": "code",
   "execution_count": 1,
   "id": "03a34072-be1a-4bad-b1e1-7936878e54ef",
   "metadata": {},
   "outputs": [],
   "source": [
    "import pyspark\n",
    "from pyspark.sql import SparkSession"
   ]
  },
  {
   "cell_type": "code",
   "execution_count": 2,
   "id": "b1010aa7-fd6a-4c4d-a164-e2801bb49513",
   "metadata": {},
   "outputs": [
    {
     "name": "stderr",
     "output_type": "stream",
     "text": [
      "24/01/21 13:51:33 WARN Utils: Your hostname, codespaces-fce2a9 resolves to a loopback address: 127.0.0.1; using 172.16.5.4 instead (on interface eth0)\n",
      "24/01/21 13:51:33 WARN Utils: Set SPARK_LOCAL_IP if you need to bind to another address\n",
      "Setting default log level to \"WARN\".\n",
      "To adjust logging level use sc.setLogLevel(newLevel). For SparkR, use setLogLevel(newLevel).\n",
      "24/01/21 13:51:34 WARN NativeCodeLoader: Unable to load native-hadoop library for your platform... using builtin-java classes where applicable\n"
     ]
    }
   ],
   "source": [
    "spark = SparkSession.builder \\\n",
    ".master(\"local[*]\") \\\n",
    ".appName(\"test\") \\\n",
    ".getOrCreate()"
   ]
  },
  {
   "cell_type": "code",
   "execution_count": 3,
   "id": "0130d630-ba53-41ca-b269-579b7fd6260a",
   "metadata": {},
   "outputs": [
    {
     "name": "stderr",
     "output_type": "stream",
     "text": [
      "                                                                                \r"
     ]
    }
   ],
   "source": [
    "df_green = spark.read.parquet('data/raw/green')"
   ]
  },
  {
   "cell_type": "code",
   "execution_count": 4,
   "id": "dfa02eac-eb65-4960-98e8-2435d22ea5fd",
   "metadata": {},
   "outputs": [],
   "source": [
    "df_green.createOrReplaceTempView('green')"
   ]
  },
  {
   "cell_type": "code",
   "execution_count": 5,
   "id": "03715a43-346d-4be1-a6b0-83bdf529f4db",
   "metadata": {},
   "outputs": [],
   "source": [
    "df_green_revenue =  spark.sql(\n",
    "    \"\"\"\n",
    "    SELECT  \n",
    "         date_trunc('hour', lpep_pickup_datetime) AS hour,\n",
    "         PULocationID AS zone,\n",
    "         \n",
    "\n",
    "         SUM(total_amount) AS amount,\n",
    "         COUNT(1) AS number_records\n",
    "    FROM\n",
    "        green\n",
    "    WHERE\n",
    "         lpep_pickup_datetime >= '2020-01-01 00:00:00'\n",
    "    GROUP BY \n",
    "        1,2\n",
    "    ORDER BY\n",
    "        1,2\n",
    "    \"\"\"\n",
    ") "
   ]
  },
  {
   "cell_type": "code",
   "execution_count": 7,
   "id": "663b22d2-5199-4fc5-8f02-3cf3bad9f57c",
   "metadata": {},
   "outputs": [
    {
     "name": "stderr",
     "output_type": "stream",
     "text": [
      "                                                                                \r"
     ]
    }
   ],
   "source": [
    "df_green_revenue.write.parquet('data/raw/report/revenue/green', mode='overwrite')"
   ]
  },
  {
   "cell_type": "code",
   "execution_count": 8,
   "id": "815c810f-87b8-446e-aa05-04c7fc92c1f8",
   "metadata": {},
   "outputs": [
    {
     "data": {
      "text/html": [
       "\n",
       "            <div>\n",
       "                <p><b>SparkSession - in-memory</b></p>\n",
       "                \n",
       "        <div>\n",
       "            <p><b>SparkContext</b></p>\n",
       "\n",
       "            <p><a href=\"http://743c5649-4442-4f8c-ad5b-69d8948efd08.internal.cloudapp.net:4040\">Spark UI</a></p>\n",
       "\n",
       "            <dl>\n",
       "              <dt>Version</dt>\n",
       "                <dd><code>v3.5.0</code></dd>\n",
       "              <dt>Master</dt>\n",
       "                <dd><code>local[*]</code></dd>\n",
       "              <dt>AppName</dt>\n",
       "                <dd><code>test</code></dd>\n",
       "            </dl>\n",
       "        </div>\n",
       "        \n",
       "            </div>\n",
       "        "
      ],
      "text/plain": [
       "<pyspark.sql.session.SparkSession at 0x7fa6c1f760b0>"
      ]
     },
     "execution_count": 8,
     "metadata": {},
     "output_type": "execute_result"
    }
   ],
   "source": [
    "spark"
   ]
  },
  {
   "cell_type": "code",
   "execution_count": 9,
   "id": "5b1a9076-a3f0-4892-9148-b902e8885eeb",
   "metadata": {},
   "outputs": [],
   "source": [
    "df_yellow = spark.read.parquet('data/raw/yellow')"
   ]
  },
  {
   "cell_type": "code",
   "execution_count": 10,
   "id": "f81bd99b-90c0-42fb-ae3d-b25ae381aea2",
   "metadata": {},
   "outputs": [
    {
     "name": "stdout",
     "output_type": "stream",
     "text": [
      "+--------+--------------------+---------------------+---------------+-------------+----------+------------------+------------+------------+------------+-----------+-----+-------+----------+------------+---------------------+------------+--------------------+\n",
      "|VendorID|tpep_pickup_datetime|tpep_dropoff_datetime|passenger_count|trip_distance|RatecodeID|store_and_fwd_flag|PULocationID|DOLocationID|payment_type|fare_amount|extra|mta_tax|tip_amount|tolls_amount|improvement_surcharge|total_amount|congestion_surcharge|\n",
      "+--------+--------------------+---------------------+---------------+-------------+----------+------------------+------------+------------+------------+-----------+-----+-------+----------+------------+---------------------+------------+--------------------+\n",
      "|       2| 2020-01-06 09:18:38|  2020-01-06 09:33:56|              1|         3.03|         1|                 N|         263|         233|           1|       12.0|  0.0|    0.5|       1.5|         0.0|                  0.3|        16.8|                 2.5|\n",
      "|       2| 2020-01-08 18:55:19|  2020-01-08 18:58:38|              1|          0.4|         1|                 N|         234|         107|           1|        4.0|  1.0|    0.5|      1.66|         0.0|                  0.3|        9.96|                 2.5|\n",
      "|       2| 2020-01-16 12:11:53|  2020-01-16 12:42:44|              1|         2.46|         1|                 N|          68|         229|           1|       19.0|  0.0|    0.5|      4.46|         0.0|                  0.3|       26.76|                 2.5|\n",
      "|       2| 2020-01-11 01:55:59|  2020-01-11 02:03:21|              6|          1.9|         1|                 N|         230|          90|           1|        8.0|  0.5|    0.5|      2.36|         0.0|                  0.3|       14.16|                 2.5|\n",
      "|       2| 2020-01-01 21:31:48|  2020-01-01 21:36:01|              1|         0.77|         1|                 N|         238|         239|           1|        5.0|  0.5|    0.5|      1.76|         0.0|                  0.3|       10.56|                 2.5|\n",
      "|       2| 2020-01-14 11:51:02|  2020-01-14 12:01:14|              1|         1.55|         1|                 N|         163|         230|           1|        8.5|  0.0|    0.5|       0.5|         0.0|                  0.3|        12.3|                 2.5|\n",
      "|       2| 2020-01-26 19:15:51|  2020-01-26 19:30:13|              1|         2.53|         1|                 N|         170|         236|           2|       12.0|  0.0|    0.5|       0.0|         0.0|                  0.3|        15.3|                 2.5|\n",
      "|       1| 2020-01-23 08:06:15|  2020-01-23 08:16:14|              3|          1.7|         1|                 N|         163|          68|           1|        8.5|  2.5|    0.5|      2.95|         0.0|                  0.3|       14.75|                 2.5|\n",
      "|       1| 2020-01-18 18:50:47|  2020-01-18 19:03:13|              2|          0.8|         1|                 N|         234|         186|           2|        9.0|  2.5|    0.5|       0.0|         0.0|                  0.3|        12.3|                 2.5|\n",
      "|       2| 2020-01-26 16:08:15|  2020-01-26 16:27:05|              1|         1.72|         1|                 N|         237|         162|           2|       12.5|  0.0|    0.5|       0.0|         0.0|                  0.3|        15.8|                 2.5|\n",
      "|       2| 2020-01-20 22:50:00|  2020-01-20 23:21:42|              1|        11.32|         1|                 N|         138|         239|           1|       35.0|  0.5|    0.5|      8.98|        6.12|                  0.3|        53.9|                 2.5|\n",
      "|       1| 2020-01-15 23:05:17|  2020-01-15 23:27:28|              1|          6.6|         1|                 N|         125|         151|           1|       23.0|  3.0|    0.5|       3.0|         0.0|                  0.3|        29.8|                 2.5|\n",
      "|       2| 2020-01-24 08:02:45|  2020-01-24 08:10:58|              1|         1.18|         1|                 N|         170|         161|           1|        7.0|  0.0|    0.5|      2.06|         0.0|                  0.3|       12.36|                 2.5|\n",
      "|       2| 2020-01-08 19:24:16|  2020-01-08 19:32:17|              2|         1.23|         1|                 N|         234|         249|           1|        7.0|  1.0|    0.5|      2.26|         0.0|                  0.3|       13.56|                 2.5|\n",
      "|       2| 2020-01-25 08:28:20|  2020-01-25 08:32:30|              2|         0.65|         1|                 N|         237|         140|           1|        5.0|  0.0|    0.5|       1.0|         0.0|                  0.3|         9.3|                 2.5|\n",
      "|       1| 2020-01-11 16:43:09|  2020-01-11 17:00:42|              1|          1.7|         1|                 N|         186|         113|           1|       11.5|  2.5|    0.5|      2.22|         0.0|                  0.3|       17.02|                 2.5|\n",
      "|       1| 2020-01-07 12:32:34|  2020-01-07 12:43:03|              1|          1.4|         1|                 N|         234|         246|           1|        8.5|  2.5|    0.5|      2.35|         0.0|                  0.3|       14.15|                 2.5|\n",
      "|       2| 2020-01-06 11:57:13|  2020-01-06 12:05:37|              1|         2.23|         1|                 N|         263|          74|           2|        9.0|  0.0|    0.5|       0.0|         0.0|                  0.3|        12.3|                 2.5|\n",
      "|       1| 2020-01-20 21:57:49|  2020-01-20 22:03:45|              1|          1.4|         1|                 N|         231|         113|           1|        6.5|  3.0|    0.5|       1.0|         0.0|                  0.3|        11.3|                 2.5|\n",
      "|       2| 2020-01-07 18:23:35|  2020-01-07 18:31:25|              2|         1.04|         1|                 N|         211|          79|           1|        7.0|  1.0|    0.5|      2.26|         0.0|                  0.3|       13.56|                 2.5|\n",
      "+--------+--------------------+---------------------+---------------+-------------+----------+------------------+------------+------------+------------+-----------+-----+-------+----------+------------+---------------------+------------+--------------------+\n",
      "only showing top 20 rows\n",
      "\n"
     ]
    }
   ],
   "source": [
    "df_yellow.show()"
   ]
  },
  {
   "cell_type": "code",
   "execution_count": 11,
   "id": "2e9201aa-a071-49a7-aabe-8f34a79af5ac",
   "metadata": {},
   "outputs": [],
   "source": [
    "df_yellow.createOrReplaceTempView('yellow')"
   ]
  },
  {
   "cell_type": "code",
   "execution_count": 12,
   "id": "1464c4e0-08fb-489d-ab96-72f7e61d345d",
   "metadata": {},
   "outputs": [],
   "source": [
    "df_yellow_revenue = spark.sql(\n",
    "\n",
    " \"\"\"\n",
    "    SELECT  \n",
    "         date_trunc('hour', tpep_pickup_datetime) AS hour,\n",
    "         PULocationID AS zone,\n",
    "         \n",
    "\n",
    "         SUM(total_amount) AS amount,\n",
    "         COUNT(1) AS number_records\n",
    "    FROM\n",
    "        yellow\n",
    "    WHERE\n",
    "         tpep_pickup_datetime >= '2020-01-01 00:00:00'\n",
    "    GROUP BY \n",
    "        1,2\n",
    "    ORDER BY\n",
    "        1,2\n",
    "    \"\"\"\n",
    "\n",
    ")"
   ]
  },
  {
   "cell_type": "code",
   "execution_count": 13,
   "id": "6d221d4c-31a3-405b-b040-8f1b49239b64",
   "metadata": {},
   "outputs": [
    {
     "name": "stderr",
     "output_type": "stream",
     "text": [
      "[Stage 18:>                                                         (0 + 2) / 2]\r"
     ]
    },
    {
     "name": "stdout",
     "output_type": "stream",
     "text": [
      "+-------------------+----+------------------+--------------+\n",
      "|               hour|zone|            amount|number_records|\n",
      "+-------------------+----+------------------+--------------+\n",
      "|2020-01-01 00:00:00|   3|              25.0|             1|\n",
      "|2020-01-01 00:00:00|   4|1004.3000000000002|            57|\n",
      "|2020-01-01 00:00:00|   7|455.16999999999996|            38|\n",
      "|2020-01-01 00:00:00|  10|             42.41|             2|\n",
      "|2020-01-01 00:00:00|  12|             107.0|             6|\n",
      "|2020-01-01 00:00:00|  13|1214.8000000000002|            56|\n",
      "|2020-01-01 00:00:00|  14|               8.8|             1|\n",
      "|2020-01-01 00:00:00|  15|             34.09|             1|\n",
      "|2020-01-01 00:00:00|  17|            220.21|             8|\n",
      "|2020-01-01 00:00:00|  18|               5.8|             1|\n",
      "|2020-01-01 00:00:00|  24|            754.95|            45|\n",
      "|2020-01-01 00:00:00|  25|            324.35|            16|\n",
      "|2020-01-01 00:00:00|  32|              18.0|             1|\n",
      "|2020-01-01 00:00:00|  33|            255.56|             8|\n",
      "|2020-01-01 00:00:00|  34|              19.3|             1|\n",
      "|2020-01-01 00:00:00|  36|            109.17|             3|\n",
      "|2020-01-01 00:00:00|  37|161.60999999999999|             7|\n",
      "|2020-01-01 00:00:00|  40|             89.97|             5|\n",
      "|2020-01-01 00:00:00|  41|1256.5300000000002|            80|\n",
      "|2020-01-01 00:00:00|  42| 635.3500000000001|            46|\n",
      "+-------------------+----+------------------+--------------+\n",
      "only showing top 20 rows\n",
      "\n"
     ]
    },
    {
     "name": "stderr",
     "output_type": "stream",
     "text": [
      "                                                                                \r"
     ]
    }
   ],
   "source": [
    "df_yellow_revenue.show()"
   ]
  },
  {
   "cell_type": "code",
   "execution_count": null,
   "id": "7b23430c-e47f-43b2-a391-a7467e13ef7c",
   "metadata": {},
   "outputs": [],
   "source": [
    "df_yellow_revenue.repartition(20).write.parquet('data/raw/')"
   ]
  }
 ],
 "metadata": {
  "kernelspec": {
   "display_name": "Python 3 (ipykernel)",
   "language": "python",
   "name": "python3"
  },
  "language_info": {
   "codemirror_mode": {
    "name": "ipython",
    "version": 3
   },
   "file_extension": ".py",
   "mimetype": "text/x-python",
   "name": "python",
   "nbconvert_exporter": "python",
   "pygments_lexer": "ipython3",
   "version": "3.10.13"
  }
 },
 "nbformat": 4,
 "nbformat_minor": 5
}
