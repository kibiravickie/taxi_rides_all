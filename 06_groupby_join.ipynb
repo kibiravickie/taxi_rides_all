{
 "cells": [
  {
   "cell_type": "code",
   "execution_count": null,
   "id": "03a34072-be1a-4bad-b1e1-7936878e54ef",
   "metadata": {},
   "outputs": [],
   "source": [
    "import pyspark\n",
    "from pyspark.sql import SparkSession"
   ]
  },
  {
   "cell_type": "code",
   "execution_count": null,
   "id": "b1010aa7-fd6a-4c4d-a164-e2801bb49513",
   "metadata": {},
   "outputs": [],
   "source": [
    "spark = SparkSession.builder \\\n",
    ".master(\"local[*]\") \\\n",
    ".appName(\"test\") \\\n",
    ".getOrCreate()"
   ]
  },
  {
   "cell_type": "code",
   "execution_count": null,
   "id": "0130d630-ba53-41ca-b269-579b7fd6260a",
   "metadata": {},
   "outputs": [],
   "source": [
    "df_green = spark.read.parquet('data/raw/green')"
   ]
  },
  {
   "cell_type": "code",
   "execution_count": null,
   "id": "dfa02eac-eb65-4960-98e8-2435d22ea5fd",
   "metadata": {},
   "outputs": [],
   "source": [
    "df_green.createOrReplaceTempView('green')"
   ]
  },
  {
   "cell_type": "code",
   "execution_count": null,
   "id": "03715a43-346d-4be1-a6b0-83bdf529f4db",
   "metadata": {},
   "outputs": [],
   "source": [
    "df_green_revenue =  spark.sql(\n",
    "    \"\"\"\n",
    "    SELECT  \n",
    "         date_trunc('hour', lpep_pickup_datetime) AS hour,\n",
    "         PULocationID AS zone,\n",
    "         \n",
    "\n",
    "         SUM(total_amount) AS amount,\n",
    "         COUNT(1) AS number_records\n",
    "    FROM\n",
    "        green\n",
    "    WHERE\n",
    "         lpep_pickup_datetime >= '2020-01-01 00:00:00'\n",
    "    GROUP BY \n",
    "        1,2\n",
    "    ORDER BY\n",
    "        1,2\n",
    "    \"\"\"\n",
    ") "
   ]
  },
  {
   "cell_type": "code",
   "execution_count": null,
   "id": "663b22d2-5199-4fc5-8f02-3cf3bad9f57c",
   "metadata": {},
   "outputs": [],
   "source": [
    "df_green_revenue.write.parquet('data/raw/report/revenue/green', mode='overwrite')"
   ]
  },
  {
   "cell_type": "code",
   "execution_count": null,
   "id": "815c810f-87b8-446e-aa05-04c7fc92c1f8",
   "metadata": {},
   "outputs": [],
   "source": [
    "spark"
   ]
  },
  {
   "cell_type": "code",
   "execution_count": null,
   "id": "5b1a9076-a3f0-4892-9148-b902e8885eeb",
   "metadata": {},
   "outputs": [],
   "source": [
    "df_yellow = spark.read.parquet('data/raw/yellow')"
   ]
  },
  {
   "cell_type": "code",
   "execution_count": null,
   "id": "f81bd99b-90c0-42fb-ae3d-b25ae381aea2",
   "metadata": {},
   "outputs": [],
   "source": [
    "df_yellow.show()"
   ]
  },
  {
   "cell_type": "code",
   "execution_count": null,
   "id": "2e9201aa-a071-49a7-aabe-8f34a79af5ac",
   "metadata": {},
   "outputs": [],
   "source": [
    "df_yellow.createOrReplaceTempView('yellow')"
   ]
  },
  {
   "cell_type": "code",
   "execution_count": null,
   "id": "1464c4e0-08fb-489d-ab96-72f7e61d345d",
   "metadata": {},
   "outputs": [],
   "source": [
    "df_yellow_revenue = spark.sql(\n",
    "\n",
    " \"\"\"\n",
    "    SELECT  \n",
    "         date_trunc('hour', tpep_pickup_datetime) AS hour,\n",
    "         PULocationID AS zone,\n",
    "         \n",
    "\n",
    "         SUM(total_amount) AS amount,\n",
    "         COUNT(1) AS number_records\n",
    "    FROM\n",
    "        yellow\n",
    "    WHERE\n",
    "         tpep_pickup_datetime >= '2020-01-01 00:00:00'\n",
    "    GROUP BY \n",
    "        1,2\n",
    "    ORDER BY\n",
    "        1,2\n",
    "    \"\"\"\n",
    "\n",
    ")"
   ]
  },
  {
   "cell_type": "code",
   "execution_count": null,
   "id": "6d221d4c-31a3-405b-b040-8f1b49239b64",
   "metadata": {},
   "outputs": [],
   "source": [
    "df_yellow_revenue.show()"
   ]
  },
  {
   "cell_type": "code",
   "execution_count": null,
   "id": "7b23430c-e47f-43b2-a391-a7467e13ef7c",
   "metadata": {},
   "outputs": [],
   "source": [
    "df_yellow_revenue.repartition(20).write.parquet('data/raw/report/yellow', mode='overwrite')"
   ]
  },
  {
   "cell_type": "code",
   "execution_count": null,
   "id": "8fd27e1b-93ee-4881-b40a-b16d194d0dac",
   "metadata": {},
   "outputs": [],
   "source": [
    "df_green_revenue_tmp = df_green_revenue \\\n",
    ".withColumnRenamed('amount','green_amount')\\\n",
    ".withColumnRenamed('number_records', 'green_number_records')\n",
    "\n",
    "df_yellow_revenue_tmp = df_yellow_revenue \\\n",
    ".withColumnRenamed('amount','yellow_amount') \\\n",
    ".withColumnRenamed('number_records', 'yellow_number_records')"
   ]
  },
  {
   "cell_type": "code",
   "execution_count": null,
   "id": "7730a578-cec1-40ab-beab-1cfb2af617e2",
   "metadata": {},
   "outputs": [],
   "source": [
    "#f_yellow_revenue, df_yellow_revenue"
   ]
  },
  {
   "cell_type": "code",
   "execution_count": null,
   "id": "8533a105-6ed2-47f4-9f94-6560921ef3d8",
   "metadata": {},
   "outputs": [],
   "source": [
    "df_join = df_green_revenue_tmp.join(df_yellow_revenue_tmp, on=['hour', 'zone'], how='outer')"
   ]
  },
  {
   "cell_type": "code",
   "execution_count": null,
   "id": "7dcacf9b-f797-4d8b-a72d-01a1fb22841b",
   "metadata": {},
   "outputs": [],
   "source": [
    "df_join.show()"
   ]
  },
  {
   "cell_type": "code",
   "execution_count": null,
   "id": "db14bd8d-39df-4b23-948f-afa1de11f3e2",
   "metadata": {},
   "outputs": [],
   "source": [
    "df_join.write.parquet('data/raw/report/revenue/total')"
   ]
  },
  {
   "cell_type": "code",
   "execution_count": null,
   "id": "2e26b5d1-4131-47b8-814e-1882093d96bc",
   "metadata": {},
   "outputs": [],
   "source": [
    "df_join = spark.read.parquet('data/raw/report/revenue/total')"
   ]
  },
  {
   "cell_type": "code",
   "execution_count": null,
   "id": "d8c90270-5bb0-4757-beed-9700b4f80045",
   "metadata": {},
   "outputs": [],
   "source": [
    "df_join"
   ]
  },
  {
   "cell_type": "code",
   "execution_count": null,
   "id": "bca09712-bd50-4665-b0cb-55547a19f28c",
   "metadata": {},
   "outputs": [],
   "source": [
    "df_zones = spark.read.parquet('zones/')"
   ]
  },
  {
   "cell_type": "code",
   "execution_count": null,
   "id": "dcddc23e-a955-4916-a6b6-a71e947f8cc0",
   "metadata": {},
   "outputs": [],
   "source": []
  }
 ],
 "metadata": {
  "kernelspec": {
   "display_name": "Python 3 (ipykernel)",
   "language": "python",
   "name": "python3"
  },
  "language_info": {
   "codemirror_mode": {
    "name": "ipython",
    "version": 3
   },
   "file_extension": ".py",
   "mimetype": "text/x-python",
   "name": "python",
   "nbconvert_exporter": "python",
   "pygments_lexer": "ipython3",
   "version": "3.10.13"
  }
 },
 "nbformat": 4,
 "nbformat_minor": 5
}
