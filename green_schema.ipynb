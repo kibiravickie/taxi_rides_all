{
 "cells": [
  {
   "cell_type": "code",
   "execution_count": 1,
   "id": "407b648d-de6f-4903-984b-178a583a336e",
   "metadata": {},
   "outputs": [],
   "source": [
    "import pyspark\n",
    "from pyspark.sql import SparkSession\n",
    "import pandas as pd\n",
    "from pyspark.sql import types"
   ]
  },
  {
   "cell_type": "code",
   "execution_count": 2,
   "id": "c05f9c0b-8230-492b-bcad-9cfe7c026696",
   "metadata": {},
   "outputs": [
    {
     "name": "stderr",
     "output_type": "stream",
     "text": [
      "24/01/21 10:07:15 WARN Utils: Your hostname, codespaces-fce2a9 resolves to a loopback address: 127.0.0.1; using 172.16.5.4 instead (on interface eth0)\n",
      "24/01/21 10:07:15 WARN Utils: Set SPARK_LOCAL_IP if you need to bind to another address\n",
      "Setting default log level to \"WARN\".\n",
      "To adjust logging level use sc.setLogLevel(newLevel). For SparkR, use setLogLevel(newLevel).\n",
      "24/01/21 10:07:17 WARN NativeCodeLoader: Unable to load native-hadoop library for your platform... using builtin-java classes where applicable\n",
      "24/01/21 10:07:18 WARN Utils: Service 'SparkUI' could not bind on port 4040. Attempting port 4041.\n",
      "24/01/21 10:07:18 WARN Utils: Service 'SparkUI' could not bind on port 4041. Attempting port 4042.\n"
     ]
    }
   ],
   "source": [
    "spark = SparkSession.builder \\\n",
    "       .master(\"local[*]\") \\\n",
    "       .appName('test') \\\n",
    "       .getOrCreate()"
   ]
  },
  {
   "cell_type": "code",
   "execution_count": null,
   "id": "ab36b6f4-a185-455f-b6fc-0c4a45210c3a",
   "metadata": {},
   "outputs": [],
   "source": [
    "df = spark.read \\\n",
    ".option('header', 'true') \\\n",
    ".csv('data/raw/green')"
   ]
  },
  {
   "cell_type": "code",
   "execution_count": null,
   "id": "8091c83e-d85d-47f4-b1c3-d2091528ca7c",
   "metadata": {},
   "outputs": [],
   "source": [
    "df.show()"
   ]
  },
  {
   "cell_type": "code",
   "execution_count": null,
   "id": "a09c7d87-c169-4676-9858-75e4d14baac4",
   "metadata": {},
   "outputs": [],
   "source": [
    "df.count()"
   ]
  },
  {
   "cell_type": "code",
   "execution_count": null,
   "id": "ae6c48f0-0778-4190-b647-bb5936766ff1",
   "metadata": {},
   "outputs": [],
   "source": [
    "green_schema = types.StructType([\n",
    "   types.StructField('VendorID', types.IntegerType(), True),\n",
    "   types.StructField('lpep_pickup_datetime', types.TimestampType(), True),\n",
    "   types.StructField('lpep_dropoff_datetime', types.TimestampType(), True),\n",
    "   types.StructField('store_and_fwd_flag', types.StringType(), True),\n",
    "   types.StructField('RatecodeID', types.IntegerType(), True),\n",
    "   types.StructField('PULocationID', types.IntegerType(), True),\n",
    "   types.StructField('DOLocationID', types.IntegerType(), True),\n",
    "   types.StructField('passenger_count', types.IntegerType(), True),\n",
    "   types.StructField('trip_distance', types.DoubleType(), True),\n",
    "   types.StructField('fare_amount', types.DoubleType(), True),\n",
    "   types.StructField('extra', types.DoubleType(), True),\n",
    "   types.StructField('mta_tax', types.DoubleType(), True),\n",
    "   types.StructField('tip_amount', types.DoubleType(), True),\n",
    "   types.StructField('tolls_amount', types.DoubleType(), True),\n",
    "   types.StructField('ehail_fee', types.DoubleType(), True),\n",
    "   types.StructField('improvement_surcharge', types.DoubleType(), True),\n",
    "   types.StructField('total_amount', types.DoubleType(), True),\n",
    "   types.StructField('payment_type', types.IntegerType(), True),\n",
    "   types.StructField('trip_type', types.IntegerType(), True),\n",
    "   types.StructField('congestion_surcharge', types.DoubleType(), True)\n",
    "])"
   ]
  },
  {
   "cell_type": "code",
   "execution_count": null,
   "id": "3c4400d8-445e-419e-a11f-981d9938b8ac",
   "metadata": {},
   "outputs": [],
   "source": [
    "df = spark.read \\\n",
    "     .option('header', 'true') \\\n",
    "     .schema(green_schema) \\\n",
    "     .csv('data/raw/green')"
   ]
  },
  {
   "cell_type": "code",
   "execution_count": null,
   "id": "326fcf1d-3cb0-4925-bedb-a1acb4150eed",
   "metadata": {},
   "outputs": [],
   "source": [
    "df.show()"
   ]
  },
  {
   "cell_type": "code",
   "execution_count": null,
   "id": "9030bb17-0251-42d3-b91c-bb2c8f3435da",
   "metadata": {},
   "outputs": [],
   "source": [
    "df.printSchema()"
   ]
  },
  {
   "cell_type": "code",
   "execution_count": null,
   "id": "a57c67ac-1146-4d0a-8871-cbbb3030391f",
   "metadata": {},
   "outputs": [],
   "source": [
    "df.repartition(2).write.parquet('data/raw/green', mode='overwite')"
   ]
  },
  {
   "cell_type": "code",
   "execution_count": null,
   "id": "9d3073d2-1bf4-4dd0-bdb4-9a994c7d20ee",
   "metadata": {},
   "outputs": [],
   "source": []
  }
 ],
 "metadata": {
  "kernelspec": {
   "display_name": "Python 3 (ipykernel)",
   "language": "python",
   "name": "python3"
  },
  "language_info": {
   "codemirror_mode": {
    "name": "ipython",
    "version": 3
   },
   "file_extension": ".py",
   "mimetype": "text/x-python",
   "name": "python",
   "nbconvert_exporter": "python",
   "pygments_lexer": "ipython3",
   "version": "3.10.13"
  }
 },
 "nbformat": 4,
 "nbformat_minor": 5
}
