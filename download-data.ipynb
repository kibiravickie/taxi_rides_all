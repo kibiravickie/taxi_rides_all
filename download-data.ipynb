{
 "cells": [
  {
   "cell_type": "code",
   "execution_count": 1,
   "id": "0a1bc678-3610-40ca-91f1-1b9264ef071a",
   "metadata": {},
   "outputs": [],
   "source": [
    "import os\n",
    "import pandas as pd"
   ]
  },
  {
   "cell_type": "code",
   "execution_count": 2,
   "id": "94c922c8-a23f-4fa5-9767-ed8273714780",
   "metadata": {},
   "outputs": [],
   "source": [
    "year = [2020, 2021]\n",
    "months= range(1, 13)"
   ]
  },
  {
   "cell_type": "code",
   "execution_count": null,
   "id": "2530f889-9cd0-4c22-9c99-0aa7ee351bdb",
   "metadata": {},
   "outputs": [],
   "source": [
    "for month i"
   ]
  }
 ],
 "metadata": {
  "kernelspec": {
   "display_name": "Python 3 (ipykernel)",
   "language": "python",
   "name": "python3"
  },
  "language_info": {
   "codemirror_mode": {
    "name": "ipython",
    "version": 3
   },
   "file_extension": ".py",
   "mimetype": "text/x-python",
   "name": "python",
   "nbconvert_exporter": "python",
   "pygments_lexer": "ipython3",
   "version": "3.10.13"
  }
 },
 "nbformat": 4,
 "nbformat_minor": 5
}
